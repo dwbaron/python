{
 "cells": [
  {
   "cell_type": "code",
   "execution_count": 1,
   "metadata": {},
   "outputs": [
    {
     "name": "stdout",
     "output_type": "stream",
     "text": [
      "Populating the interactive namespace from numpy and matplotlib\n",
      "[[4.499510005282038, 1.938920125304249], [-2.6678039204361186, 8.935760689549225], [-6.951709616224192, -6.676216692254869]]\n"
     ]
    },
    {
     "data": {
      "image/png": "[encoded data removed]",
      "text/plain": [
       "<matplotlib.figure.Figure at 0x26a26fc6240>"
      ]
     },
     "metadata": {},
     "output_type": "display_data"
    }
   ],
   "source": [
    "###------------- kMeeans cluster\n",
    "### vector computing helper functions \n",
    "%pylab inline\n",
    "import random\n",
    "import matplotlib.pyplot as plt\n",
    "import numpy as np\n",
    "\n",
    "\n",
    "# inner product\n",
    "def dot(v, w):\n",
    "    return sum(v_i * w_i\n",
    "              for v_i, w_i in zip(v, w))\n",
    "\n",
    "def sum_of_squares(v):\n",
    "    return dot(v,v)\n",
    "\n",
    "def vector_substract(v, w):\n",
    "    return [v_i - w_i\n",
    "            for v_i, w_i in zip(v, w)]\n",
    "\n",
    "def vector_add(v, w):\n",
    "    return [v_i + w_i\n",
    "            for v_i, w_i in zip(v, w)]\n",
    "\n",
    "def vector_sum(vectors):\n",
    "    result = vectors[0]\n",
    "    for vector in vectors[1:]:\n",
    "        result = vector_add(result, vector)\n",
    "    return result\n",
    "\n",
    "def scalar_multiply(c, v):\n",
    "    return [c * v_i for v_i in v]\n",
    "\n",
    "def vector_mean(vectors):\n",
    "    n = len(vectors)\n",
    "    return scalar_multiply(1/n, vector_sum(vectors))\n",
    "\n",
    "def squared_distance(v, w):\n",
    "    return sum_of_squares(vector_substract(v, w))\n",
    "\n",
    "\n",
    "# a kmeans class\n",
    "class KMeans:\n",
    "    def __init__(self,k):\n",
    "        self.k = k\n",
    "        self.means = None\n",
    "    \n",
    "    def classify(self, input):\n",
    "        return min(range(self.k),\n",
    "                  key = lambda i:squared_distance(input, self.means[i]))\n",
    "    \n",
    "    def train(self, inputs):\n",
    "        # initial means\n",
    "        self.means = random.sample(inputs,self.k)\n",
    "        assignments = None\n",
    "        \n",
    "        while True:\n",
    "            new_assignments = list(map(self.classify, inputs))\n",
    "            # no change? then return the class\n",
    "            if assignments == new_assignments:\n",
    "                return\n",
    "            \n",
    "            assignments = new_assignments\n",
    "            \n",
    "            for i in range(self.k):\n",
    "                i_points = [p for p,a in zip(inputs, assignments) if a== i]\n",
    "                \n",
    "                if i_points:\n",
    "                    self.means[i] = vector_mean(i_points)\n",
    "                    \n",
    "random.seed(0)\n",
    "cluster = KMeans(3)\n",
    "\n",
    "# the training data already created as 3 groups\n",
    "# just to verify our training result is correct thus to overlap the original data points\n",
    "\n",
    "from sklearn.datasets import make_blobs\n",
    "X, y = make_blobs(random_state=42)\n",
    "\n",
    "inputs = X.tolist()\n",
    "cluster.train(inputs)\n",
    "print(cluster.means)\n",
    "plt.plot(X[:,0],X[:,1],'ok',alpha=.2)\n",
    "\n",
    "res = []\n",
    "for i in inputs:\n",
    "    res.append(cluster.classify(i))\n",
    "res = np.array(res)\n",
    "for k in range(cluster.k):\n",
    "    mask = (res == k)\n",
    "    plt.plot(X[mask,0],X[mask,1],'o',alpha=.2)\n",
    "    plt.text(cluster.means[k][0],cluster.means[k][1],k,size=20,color='k')"
   ]
  },
  {
   "cell_type": "code",
   "execution_count": null,
   "metadata": {
    "collapsed": true
   },
   "outputs": [],
   "source": []
  }
 ],
 "metadata": {
  "kernelspec": {
   "display_name": "Python 3",
   "language": "python",
   "name": "python3"
  },
  "language_info": {
   "codemirror_mode": {
    "name": "ipython",
    "version": 3
   },
   "file_extension": ".py",
   "mimetype": "text/x-python",
   "name": "python",
   "nbconvert_exporter": "python",
   "pygments_lexer": "ipython3",
   "version": "3.6.1"
  }
 },
 "nbformat": 4,
 "nbformat_minor": 2
}

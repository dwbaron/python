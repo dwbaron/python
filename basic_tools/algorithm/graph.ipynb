{
 "cells": [
  {
   "cell_type": "code",
   "execution_count": 15,
   "metadata": {},
   "outputs": [
    {
     "data": {
      "text/plain": [
       "([{'a': None, 'b': 'a', 'c': 'b', 'd': 'a', 'e': 'b', 'f': 'e'},\n",
       "  {'c': 'f', 'd': 'c', 'e': 'd', 'f': 'g', 'g': None, 'h': 'g'}],\n",
       " {'a': None, 'b': 'a', 'c': 'b', 'd': 'a', 'e': 'b', 'f': 'e'})"
      ]
     },
     "execution_count": 15,
     "metadata": {},
     "output_type": "execute_result"
    }
   ],
   "source": [
    "# 给定无向图G\n",
    "# walk和components结果是一样的\n",
    "# G = {'a':set('bcd'),\n",
    "#     'b':set('ade'),\n",
    "#     'c':set('ad'),\n",
    "#     'd':set('acb'),\n",
    "#     'e':set('bfg'),\n",
    "#     'f':set('eg'),\n",
    "#     'g':set('ef')}\n",
    "\n",
    "# 给定有向图G\n",
    "G = {'a':set('bd'),\n",
    "    'b':set('ce'),\n",
    "    'c':set('d'),\n",
    "    'd':set('e'),\n",
    "    'e':set('f'),\n",
    "    'f':set('c'),\n",
    "    'g':set('fh'),\n",
    "    'h':set('fg')}\n",
    "\n",
    "def walk(G,s):\n",
    "    # P的键代表当前结点,值代表当前节点的父节点\n",
    "    # 构建了搜索路径\n",
    "    P, Q = dict(), set()\n",
    "    P[s] = None\n",
    "    Q.add(s)\n",
    "    while Q:\n",
    "        u = Q.pop()\n",
    "        for v in G[u].difference(P):\n",
    "            Q.add(v)\n",
    "            P[v] = u\n",
    "    return P\n",
    "\n",
    "# 注意这个遍历是需要给定起始点的\n",
    "# 不能够遍历所有图中的路径,\n",
    "\n",
    "def components(G):\n",
    "    comp = []\n",
    "    seen = set()\n",
    "    for u in G:\n",
    "        if u in seen:\n",
    "            continue\n",
    "        C = walk(G,u)\n",
    "        seen.update(C)\n",
    "        comp.append(C)\n",
    "    return comp\n",
    "\n",
    "# walk 少了一些路径\n",
    "components(G),walk(G,'a')"
   ]
  },
  {
   "cell_type": "code",
   "execution_count": null,
   "metadata": {
    "collapsed": true
   },
   "outputs": [],
   "source": []
  }
 ],
 "metadata": {
  "kernelspec": {
   "display_name": "Python 3",
   "language": "python",
   "name": "python3"
  },
  "language_info": {
   "codemirror_mode": {
    "name": "ipython",
    "version": 3
   },
   "file_extension": ".py",
   "mimetype": "text/x-python",
   "name": "python",
   "nbconvert_exporter": "python",
   "pygments_lexer": "ipython3",
   "version": "3.6.1"
  }
 },
 "nbformat": 4,
 "nbformat_minor": 2
}
